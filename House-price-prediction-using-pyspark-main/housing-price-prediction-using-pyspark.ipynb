{
 "cells": [
  {
   "cell_type": "markdown",
   "id": "14bc952a",
   "metadata": {
    "papermill": {
     "duration": 0.026721,
     "end_time": "2021-10-29T17:36:24.777605",
     "exception": false,
     "start_time": "2021-10-29T17:36:24.750884",
     "status": "completed"
    },
    "tags": []
   },
   "source": []
  },
  {
   "cell_type": "markdown",
   "id": "41945324",
   "metadata": {
    "papermill": {
     "duration": 0.025037,
     "end_time": "2021-10-29T17:36:24.828598",
     "exception": false,
     "start_time": "2021-10-29T17:36:24.803561",
     "status": "completed"
    },
    "tags": []
   },
   "source": [
    "**This notebook aims to analyze housing price by using PySpark libraries.**\n",
    "\n",
    "- Cleaning the data\n",
    "- Exploratory data analysis\n",
    "- Created new features\n",
    "- Corrleation analysis\n",
    "- Converted categorial data to numerical\n",
    "- Linear regression for house price prediction\n",
    "- Hyperparameter tuning"
   ]
  },
  {
   "cell_type": "code",
   "execution_count": null,
   "id": "71363f19",
   "metadata": {
    "execution": {
     "iopub.execute_input": "2021-10-29T17:36:24.888846Z",
     "iopub.status.busy": "2021-10-29T17:36:24.888120Z",
     "iopub.status.idle": "2021-10-29T17:37:15.147227Z",
     "shell.execute_reply": "2021-10-29T17:37:15.146495Z",
     "shell.execute_reply.started": "2021-10-29T16:05:14.488750Z"
    },
    "papermill": {
     "duration": 50.293834,
     "end_time": "2021-10-29T17:37:15.147414",
     "exception": false,
     "start_time": "2021-10-29T17:36:24.853580",
     "status": "completed"
    },
    "scrolled": true,
    "tags": []
   },
   "outputs": [],
   "source": [
    "!pip install pyspark"
   ]
  },
  {
   "cell_type": "code",
   "execution_count": null,
   "id": "9a007ce8",
   "metadata": {
    "execution": {
     "iopub.execute_input": "2021-10-29T17:37:15.466700Z",
     "iopub.status.busy": "2021-10-29T17:37:15.466035Z",
     "iopub.status.idle": "2021-10-29T17:37:16.686567Z",
     "shell.execute_reply": "2021-10-29T17:37:16.686006Z",
     "shell.execute_reply.started": "2021-10-29T16:06:00.924379Z"
    },
    "papermill": {
     "duration": 1.382153,
     "end_time": "2021-10-29T17:37:16.686706",
     "exception": false,
     "start_time": "2021-10-29T17:37:15.304553",
     "status": "completed"
    },
    "tags": []
   },
   "outputs": [],
   "source": [
    "# This Python 3 environment comes with many helpful analytics libraries installed\n",
    "# It is defined by the kaggle/python Docker image: https://github.com/kaggle/docker-python\n",
    "# For example, here's several helpful packages to load\n",
    "\n",
    "import numpy as np # linear algebra\n",
    "import pandas as pd # data processing, CSV file I/O (e.g. pd.read_csv)\n",
    "import os\n",
    "import seaborn as sns\n",
    "from pyspark import SparkConf, SparkContext\n",
    "from pyspark.sql import SparkSession, SQLContext\n",
    "from pyspark.sql.types import *\n",
    "import pyspark.sql.functions as F\n",
    "from pyspark.sql.functions import udf, col\n",
    "\n",
    "from pyspark.ml.regression import LinearRegression\n",
    "from pyspark.mllib.evaluation import RegressionMetrics\n",
    "\n",
    "from pyspark.ml.tuning import ParamGridBuilder, CrossValidator, CrossValidatorModel\n",
    "from pyspark.ml.feature import VectorAssembler, StandardScaler\n",
    "from pyspark.ml.evaluation import RegressionEvaluator\n",
    "\n",
    "# Input data files are available in the read-only \"../input/\" directory\n",
    "# For example, running this (by clicking run or pressing Shift+Enter) will list all files under the input directory\n",
    "\n",
    "import os\n",
    "for dirname, _, filenames in os.walk('/kaggle/input'):\n",
    "    for filename in filenames:\n",
    "        print(os.path.join(dirname, filename))\n",
    "\n",
    "# You can write up to 20GB to the current directory (/kaggle/working/) that gets preserved as output when you create a version using \"Save & Run All\" \n",
    "# You can also write temporary files to /kaggle/temp/, but they won't be saved outside of the current session"
   ]
  },
  {
   "cell_type": "code",
   "execution_count": null,
   "id": "fab1f2d3",
   "metadata": {
    "execution": {
     "iopub.execute_input": "2021-10-29T17:37:17.020595Z",
     "iopub.status.busy": "2021-10-29T17:37:17.019575Z",
     "iopub.status.idle": "2021-10-29T17:37:17.022254Z",
     "shell.execute_reply": "2021-10-29T17:37:17.021734Z",
     "shell.execute_reply.started": "2021-10-29T16:06:02.122829Z"
    },
    "papermill": {
     "duration": 0.16111,
     "end_time": "2021-10-29T17:37:17.022388",
     "exception": false,
     "start_time": "2021-10-29T17:37:16.861278",
     "status": "completed"
    },
    "tags": []
   },
   "outputs": [],
   "source": [
    "from pyspark.sql import SparkSession\n"
   ]
  },
  {
   "cell_type": "code",
   "execution_count": null,
   "id": "c86e04f6",
   "metadata": {
    "execution": {
     "iopub.execute_input": "2021-10-29T17:37:17.395018Z",
     "iopub.status.busy": "2021-10-29T17:37:17.393708Z",
     "iopub.status.idle": "2021-10-29T17:37:23.350763Z",
     "shell.execute_reply": "2021-10-29T17:37:23.349363Z",
     "shell.execute_reply.started": "2021-10-29T16:06:02.131848Z"
    },
    "papermill": {
     "duration": 6.11579,
     "end_time": "2021-10-29T17:37:23.350999",
     "exception": false,
     "start_time": "2021-10-29T17:37:17.235209",
     "status": "completed"
    },
    "scrolled": true,
    "tags": []
   },
   "outputs": [],
   "source": [
    "spark  = SparkSession.builder.appName('Dataframe').getOrCreate()"
   ]
  },
  {
   "cell_type": "code",
   "execution_count": null,
   "id": "41c991e4",
   "metadata": {
    "execution": {
     "iopub.execute_input": "2021-10-29T17:37:23.693552Z",
     "iopub.status.busy": "2021-10-29T17:37:23.692529Z",
     "iopub.status.idle": "2021-10-29T17:37:29.324198Z",
     "shell.execute_reply": "2021-10-29T17:37:29.322651Z",
     "shell.execute_reply.started": "2021-10-29T16:06:08.404129Z"
    },
    "papermill": {
     "duration": 5.792113,
     "end_time": "2021-10-29T17:37:29.324421",
     "exception": false,
     "start_time": "2021-10-29T17:37:23.532308",
     "status": "completed"
    },
    "tags": []
   },
   "outputs": [],
   "source": [
    "# Read the datasets\n",
    "df_housing = spark.read.option('header', 'true').csv(os.path.join(dirname, 'housing.csv'), inferSchema = True)"
   ]
  },
  {
   "cell_type": "code",
   "execution_count": null,
   "id": "cc74859d",
   "metadata": {
    "execution": {
     "iopub.execute_input": "2021-10-29T17:37:29.726854Z",
     "iopub.status.busy": "2021-10-29T17:37:29.726161Z",
     "iopub.status.idle": "2021-10-29T17:37:30.035515Z",
     "shell.execute_reply": "2021-10-29T17:37:30.036578Z",
     "shell.execute_reply.started": "2021-10-29T16:06:14.177959Z"
    },
    "papermill": {
     "duration": 0.474252,
     "end_time": "2021-10-29T17:37:30.036781",
     "exception": false,
     "start_time": "2021-10-29T17:37:29.562529",
     "status": "completed"
    },
    "tags": []
   },
   "outputs": [],
   "source": [
    "#Showing first 20 rows\n",
    "df_housing.head(3)"
   ]
  },
  {
   "cell_type": "code",
   "execution_count": null,
   "id": "20193c46",
   "metadata": {
    "execution": {
     "iopub.execute_input": "2021-10-29T17:37:30.376760Z",
     "iopub.status.busy": "2021-10-29T17:37:30.375642Z",
     "iopub.status.idle": "2021-10-29T17:37:30.387364Z",
     "shell.execute_reply": "2021-10-29T17:37:30.386365Z",
     "shell.execute_reply.started": "2021-10-29T16:06:14.487494Z"
    },
    "papermill": {
     "duration": 0.18909,
     "end_time": "2021-10-29T17:37:30.387567",
     "exception": false,
     "start_time": "2021-10-29T17:37:30.198477",
     "status": "completed"
    },
    "tags": []
   },
   "outputs": [],
   "source": [
    "#Check the schema\n",
    "df_housing.printSchema()"
   ]
  },
  {
   "cell_type": "code",
   "execution_count": null,
   "id": "ed7fd7f5",
   "metadata": {
    "execution": {
     "iopub.execute_input": "2021-10-29T17:37:30.768326Z",
     "iopub.status.busy": "2021-10-29T17:37:30.767609Z",
     "iopub.status.idle": "2021-10-29T17:37:30.773253Z",
     "shell.execute_reply": "2021-10-29T17:37:30.773920Z",
     "shell.execute_reply.started": "2021-10-29T16:06:14.509655Z"
    },
    "papermill": {
     "duration": 0.196027,
     "end_time": "2021-10-29T17:37:30.774102",
     "exception": false,
     "start_time": "2021-10-29T17:37:30.578075",
     "status": "completed"
    },
    "tags": []
   },
   "outputs": [],
   "source": [
    "#print column names\n",
    "df_housing.columns"
   ]
  },
  {
   "cell_type": "code",
   "execution_count": null,
   "id": "7ec04b70",
   "metadata": {
    "execution": {
     "iopub.execute_input": "2021-10-29T17:37:31.087560Z",
     "iopub.status.busy": "2021-10-29T17:37:31.086951Z",
     "iopub.status.idle": "2021-10-29T17:37:32.799845Z",
     "shell.execute_reply": "2021-10-29T17:37:32.798861Z",
     "shell.execute_reply.started": "2021-10-29T16:06:14.527004Z"
    },
    "papermill": {
     "duration": 1.871677,
     "end_time": "2021-10-29T17:37:32.800052",
     "exception": false,
     "start_time": "2021-10-29T17:37:30.928375",
     "status": "completed"
    },
    "tags": []
   },
   "outputs": [],
   "source": [
    "#Checking data entries for each column\n",
    "df_housing.select(['longitude',\n",
    " 'latitude',\n",
    " 'housing_median_age',\n",
    " 'total_rooms',\n",
    " 'total_bedrooms']).describe().show()"
   ]
  },
  {
   "cell_type": "code",
   "execution_count": null,
   "id": "3bb938f3",
   "metadata": {
    "execution": {
     "iopub.execute_input": "2021-10-29T17:37:33.130633Z",
     "iopub.status.busy": "2021-10-29T17:37:33.129724Z",
     "iopub.status.idle": "2021-10-29T17:37:34.392517Z",
     "shell.execute_reply": "2021-10-29T17:37:34.391653Z",
     "shell.execute_reply.started": "2021-10-29T16:06:16.368423Z"
    },
    "papermill": {
     "duration": 1.430663,
     "end_time": "2021-10-29T17:37:34.392758",
     "exception": false,
     "start_time": "2021-10-29T17:37:32.962095",
     "status": "completed"
    },
    "tags": []
   },
   "outputs": [],
   "source": [
    "df_housing.select(['population',\n",
    " 'households',\n",
    " 'median_income',\n",
    " 'median_house_value',\n",
    " 'ocean_proximity']).describe().show()"
   ]
  },
  {
   "cell_type": "code",
   "execution_count": null,
   "id": "9cede2f3",
   "metadata": {
    "execution": {
     "iopub.execute_input": "2021-10-29T17:37:34.900166Z",
     "iopub.status.busy": "2021-10-29T17:37:34.899291Z",
     "iopub.status.idle": "2021-10-29T17:37:34.913629Z",
     "shell.execute_reply": "2021-10-29T17:37:34.914798Z",
     "shell.execute_reply.started": "2021-10-29T16:06:17.847019Z"
    },
    "papermill": {
     "duration": 0.266088,
     "end_time": "2021-10-29T17:37:34.915254",
     "exception": false,
     "start_time": "2021-10-29T17:37:34.649166",
     "status": "completed"
    },
    "tags": []
   },
   "outputs": [],
   "source": [
    "df_housing = df_housing.withColumnRenamed('median_house_value','price')"
   ]
  },
  {
   "cell_type": "code",
   "execution_count": null,
   "id": "ab9a1e41",
   "metadata": {
    "execution": {
     "iopub.execute_input": "2021-10-29T17:37:35.258553Z",
     "iopub.status.busy": "2021-10-29T17:37:35.257688Z",
     "iopub.status.idle": "2021-10-29T17:37:35.299040Z",
     "shell.execute_reply": "2021-10-29T17:37:35.299556Z",
     "shell.execute_reply.started": "2021-10-29T16:06:17.867710Z"
    },
    "papermill": {
     "duration": 0.200669,
     "end_time": "2021-10-29T17:37:35.299719",
     "exception": false,
     "start_time": "2021-10-29T17:37:35.099050",
     "status": "completed"
    },
    "tags": []
   },
   "outputs": [],
   "source": [
    "#Data imputation\n",
    "df_housing.na.drop()"
   ]
  },
  {
   "cell_type": "code",
   "execution_count": null,
   "id": "c21317d7",
   "metadata": {
    "execution": {
     "iopub.execute_input": "2021-10-29T17:37:35.617967Z",
     "iopub.status.busy": "2021-10-29T17:37:35.617244Z",
     "iopub.status.idle": "2021-10-29T17:37:35.624563Z",
     "shell.execute_reply": "2021-10-29T17:37:35.623733Z",
     "shell.execute_reply.started": "2021-10-29T16:06:17.916775Z"
    },
    "papermill": {
     "duration": 0.169651,
     "end_time": "2021-10-29T17:37:35.624792",
     "exception": false,
     "start_time": "2021-10-29T17:37:35.455141",
     "status": "completed"
    },
    "tags": []
   },
   "outputs": [],
   "source": [
    "type(df_housing['price'])"
   ]
  },
  {
   "cell_type": "markdown",
   "id": "0e2504a2",
   "metadata": {
    "papermill": {
     "duration": 0.183198,
     "end_time": "2021-10-29T17:37:35.979777",
     "exception": false,
     "start_time": "2021-10-29T17:37:35.796579",
     "status": "completed"
    },
    "tags": []
   },
   "source": [
    "**Perliminary analysis**"
   ]
  },
  {
   "cell_type": "code",
   "execution_count": null,
   "id": "a4aea36f",
   "metadata": {
    "execution": {
     "iopub.execute_input": "2021-10-29T17:37:36.328543Z",
     "iopub.status.busy": "2021-10-29T17:37:36.327903Z",
     "iopub.status.idle": "2021-10-29T17:37:37.789428Z",
     "shell.execute_reply": "2021-10-29T17:37:37.789864Z",
     "shell.execute_reply.started": "2021-10-29T16:06:17.929743Z"
    },
    "papermill": {
     "duration": 1.623143,
     "end_time": "2021-10-29T17:37:37.790044",
     "exception": false,
     "start_time": "2021-10-29T17:37:36.166901",
     "status": "completed"
    },
    "tags": []
   },
   "outputs": [],
   "source": [
    "#Checking if the prices are normally distributed\n",
    "sns.distplot(df_housing.select('price').toPandas(), color=\"skyblue\")\n",
    "df_housing.select(F.skewness('price'), F.kurtosis('price')).show()"
   ]
  },
  {
   "cell_type": "code",
   "execution_count": null,
   "id": "68d0ff60",
   "metadata": {
    "execution": {
     "iopub.execute_input": "2021-10-29T17:37:38.110760Z",
     "iopub.status.busy": "2021-10-29T17:37:38.110129Z",
     "iopub.status.idle": "2021-10-29T17:37:38.791689Z",
     "shell.execute_reply": "2021-10-29T17:37:38.790393Z",
     "shell.execute_reply.started": "2021-10-29T16:06:19.537181Z"
    },
    "papermill": {
     "duration": 0.844476,
     "end_time": "2021-10-29T17:37:38.791960",
     "exception": false,
     "start_time": "2021-10-29T17:37:37.947484",
     "status": "completed"
    },
    "tags": []
   },
   "outputs": [],
   "source": [
    "#Housing prices greater than 500,000 (expensive houses)\n",
    "print(\"No of houses: %i\" % df_housing.select('price').count())\n",
    "print(\"No of houses greater than $500000 are: %i\" % df_housing.filter(df_housing[\"price\"] > 500000).count())"
   ]
  },
  {
   "cell_type": "code",
   "execution_count": null,
   "id": "5fb714ae",
   "metadata": {
    "execution": {
     "iopub.execute_input": "2021-10-29T17:37:39.142348Z",
     "iopub.status.busy": "2021-10-29T17:37:39.141687Z",
     "iopub.status.idle": "2021-10-29T17:37:39.805683Z",
     "shell.execute_reply": "2021-10-29T17:37:39.805227Z",
     "shell.execute_reply.started": "2021-10-29T16:06:20.222207Z"
    },
    "papermill": {
     "duration": 0.835135,
     "end_time": "2021-10-29T17:37:39.805828",
     "exception": false,
     "start_time": "2021-10-29T17:37:38.970693",
     "status": "completed"
    },
    "tags": []
   },
   "outputs": [],
   "source": [
    "#Distribution of prices\n",
    "sns.set_style(\"darkgrid\")\n",
    "sns.histplot(df_housing.select('price').toPandas(), bins = 10)"
   ]
  },
  {
   "cell_type": "code",
   "execution_count": null,
   "id": "28262454",
   "metadata": {
    "execution": {
     "iopub.execute_input": "2021-10-29T17:37:40.139230Z",
     "iopub.status.busy": "2021-10-29T17:37:40.138556Z",
     "iopub.status.idle": "2021-10-29T17:37:41.774052Z",
     "shell.execute_reply": "2021-10-29T17:37:41.774544Z",
     "shell.execute_reply.started": "2021-10-29T16:06:21.101905Z"
    },
    "papermill": {
     "duration": 1.811561,
     "end_time": "2021-10-29T17:37:41.774706",
     "exception": false,
     "start_time": "2021-10-29T17:37:39.963145",
     "status": "completed"
    },
    "tags": []
   },
   "outputs": [],
   "source": [
    "#Average price of house\n",
    "import matplotlib.pyplot as plt\n",
    "df1 = df_housing.groupby('total_rooms').avg().sort('total_rooms').select(['total_rooms','avg(price)'])\n",
    "df_p = df1.toPandas()\n",
    "plt.figure(figsize = (15, 8))\n",
    "sns.scatterplot(x = df_p['total_rooms'], y = df_p['avg(price)'] )"
   ]
  },
  {
   "cell_type": "code",
   "execution_count": null,
   "id": "785a6402",
   "metadata": {
    "execution": {
     "iopub.execute_input": "2021-10-29T17:37:42.110861Z",
     "iopub.status.busy": "2021-10-29T17:37:42.109870Z",
     "iopub.status.idle": "2021-10-29T17:37:42.188359Z",
     "shell.execute_reply": "2021-10-29T17:37:42.187333Z",
     "shell.execute_reply.started": "2021-10-29T16:06:22.926014Z"
    },
    "papermill": {
     "duration": 0.245729,
     "end_time": "2021-10-29T17:37:42.188611",
     "exception": false,
     "start_time": "2021-10-29T17:37:41.942882",
     "status": "completed"
    },
    "tags": []
   },
   "outputs": [],
   "source": [
    "#Adding a column of per-capita income to the dataframe\n",
    "\n",
    "df_housing = df_housing.withColumn('per_capita_income', df_housing['median_income']*10000/df_housing['population'])"
   ]
  },
  {
   "cell_type": "code",
   "execution_count": null,
   "id": "41f4a05b",
   "metadata": {
    "execution": {
     "iopub.execute_input": "2021-10-29T17:37:42.532014Z",
     "iopub.status.busy": "2021-10-29T17:37:42.531298Z",
     "iopub.status.idle": "2021-10-29T17:37:54.715804Z",
     "shell.execute_reply": "2021-10-29T17:37:54.715198Z",
     "shell.execute_reply.started": "2021-10-29T16:06:23.009269Z"
    },
    "papermill": {
     "duration": 12.363047,
     "end_time": "2021-10-29T17:37:54.715972",
     "exception": false,
     "start_time": "2021-10-29T17:37:42.352925",
     "status": "completed"
    },
    "tags": []
   },
   "outputs": [],
   "source": [
    "#per_capita_income distribution \n",
    "g = sns.histplot(df_housing.select('per_capita_income').toPandas())\n",
    "g.set(xlim = (0, 500))\n"
   ]
  },
  {
   "cell_type": "code",
   "execution_count": null,
   "id": "575c3846",
   "metadata": {
    "execution": {
     "iopub.execute_input": "2021-10-29T17:37:55.055594Z",
     "iopub.status.busy": "2021-10-29T17:37:55.053578Z",
     "iopub.status.idle": "2021-10-29T17:37:55.969244Z",
     "shell.execute_reply": "2021-10-29T17:37:55.969658Z",
     "shell.execute_reply.started": "2021-10-29T16:06:37.562275Z"
    },
    "papermill": {
     "duration": 1.084681,
     "end_time": "2021-10-29T17:37:55.969846",
     "exception": false,
     "start_time": "2021-10-29T17:37:54.885165",
     "status": "completed"
    },
    "tags": []
   },
   "outputs": [],
   "source": [
    "#Per-capita-income and prices of the home\n",
    "df_p = df_housing.toPandas()\n",
    "sns.scatterplot(x = df_p['per_capita_income'], y = df_p['price'])\n",
    "\n",
    "#A lot of data has near $100 per-capita income - data is skewed towards zero. "
   ]
  },
  {
   "cell_type": "code",
   "execution_count": null,
   "id": "8eff5d65",
   "metadata": {
    "execution": {
     "iopub.execute_input": "2021-10-29T17:37:56.309419Z",
     "iopub.status.busy": "2021-10-29T17:37:56.308289Z",
     "iopub.status.idle": "2021-10-29T17:37:56.823987Z",
     "shell.execute_reply": "2021-10-29T17:37:56.824916Z",
     "shell.execute_reply.started": "2021-10-29T16:06:38.491566Z"
    },
    "papermill": {
     "duration": 0.689557,
     "end_time": "2021-10-29T17:37:56.825161",
     "exception": false,
     "start_time": "2021-10-29T17:37:56.135604",
     "status": "completed"
    },
    "tags": []
   },
   "outputs": [],
   "source": [
    "#Counting per capita that are less than $100\n",
    "count_blocks = df_housing.filter('per_capita_income <  100').count()/df_housing.select('per_capita_income').count()*100\n",
    "print(\"Percentage of blocks below $100 per capita: %2f\" % count_blocks)"
   ]
  },
  {
   "cell_type": "code",
   "execution_count": null,
   "id": "320128fa",
   "metadata": {
    "execution": {
     "iopub.execute_input": "2021-10-29T17:37:57.351560Z",
     "iopub.status.busy": "2021-10-29T17:37:57.350494Z",
     "iopub.status.idle": "2021-10-29T17:37:57.661596Z",
     "shell.execute_reply": "2021-10-29T17:37:57.662377Z",
     "shell.execute_reply.started": "2021-10-29T16:06:39.074555Z"
    },
    "papermill": {
     "duration": 0.561104,
     "end_time": "2021-10-29T17:37:57.662637",
     "exception": false,
     "start_time": "2021-10-29T17:37:57.101533",
     "status": "completed"
    },
    "tags": []
   },
   "outputs": [],
   "source": [
    "#Checking unique values in ocean_proximity\n",
    "df_housing.select('ocean_proximity').distinct().show()"
   ]
  },
  {
   "cell_type": "code",
   "execution_count": null,
   "id": "66fabd6a",
   "metadata": {
    "execution": {
     "iopub.execute_input": "2021-10-29T17:37:58.113036Z",
     "iopub.status.busy": "2021-10-29T17:37:58.112232Z",
     "iopub.status.idle": "2021-10-29T17:37:58.866274Z",
     "shell.execute_reply": "2021-10-29T17:37:58.867162Z",
     "shell.execute_reply.started": "2021-10-29T16:06:39.488940Z"
    },
    "papermill": {
     "duration": 0.929191,
     "end_time": "2021-10-29T17:37:58.867409",
     "exception": false,
     "start_time": "2021-10-29T17:37:57.938218",
     "status": "completed"
    },
    "tags": []
   },
   "outputs": [],
   "source": [
    "#Where does wealthy people live?\n",
    "df_i = df_housing.groupby('ocean_proximity').agg({'median_income' : 'avg'})\n",
    "df_p = df_i.toPandas()\n",
    "sns.barplot(x = df_p['ocean_proximity'], y = df_p['avg(median_income)']*10000)\n",
    "\n",
    "#Houses that are less than 1 hour to ocean where most wealthy people wants to live"
   ]
  },
  {
   "cell_type": "code",
   "execution_count": null,
   "id": "10b1f3cc",
   "metadata": {
    "execution": {
     "iopub.execute_input": "2021-10-29T17:37:59.219160Z",
     "iopub.status.busy": "2021-10-29T17:37:59.218140Z",
     "iopub.status.idle": "2021-10-29T17:38:00.220071Z",
     "shell.execute_reply": "2021-10-29T17:38:00.220965Z",
     "shell.execute_reply.started": "2021-10-29T16:06:40.168052Z"
    },
    "papermill": {
     "duration": 1.184809,
     "end_time": "2021-10-29T17:38:00.221204",
     "exception": false,
     "start_time": "2021-10-29T17:37:59.036395",
     "status": "completed"
    },
    "tags": []
   },
   "outputs": [],
   "source": [
    "#Label-encoding for the \"ocean_proximity\" column\n",
    "from pyspark.ml.feature import StringIndexer\n",
    "indexer = StringIndexer(inputCol=\"ocean_proximity\", outputCol=\"ocean_proximity_index\") \n",
    "df_housing = indexer.fit(df_housing).transform(df_housing)\n",
    "df_housing = df_housing.drop('ocean_proximity')\n",
    "df_housing.select('ocean_proximity_index').show(3)"
   ]
  },
  {
   "cell_type": "code",
   "execution_count": null,
   "id": "4d77a05b",
   "metadata": {
    "execution": {
     "iopub.execute_input": "2021-10-29T17:38:00.662017Z",
     "iopub.status.busy": "2021-10-29T17:38:00.661055Z",
     "iopub.status.idle": "2021-10-29T17:38:01.044044Z",
     "shell.execute_reply": "2021-10-29T17:38:01.043096Z"
    },
    "papermill": {
     "duration": 0.640854,
     "end_time": "2021-10-29T17:38:01.044265",
     "exception": false,
     "start_time": "2021-10-29T17:38:00.403411",
     "status": "completed"
    },
    "tags": []
   },
   "outputs": [],
   "source": [
    "#Removing na values to ensure correlation method works properly\n",
    "mean = df_housing.select(F.mean('total_bedrooms')).collect()[0][0]\n",
    "df_housing = df_housing.na.fill({'total_bedrooms': mean})"
   ]
  },
  {
   "cell_type": "code",
   "execution_count": null,
   "id": "42cb3535",
   "metadata": {
    "execution": {
     "iopub.execute_input": "2021-10-29T17:38:01.426586Z",
     "iopub.status.busy": "2021-10-29T17:38:01.425635Z",
     "iopub.status.idle": "2021-10-29T17:38:01.485524Z",
     "shell.execute_reply": "2021-10-29T17:38:01.484469Z",
     "shell.execute_reply.started": "2021-10-29T16:33:01.103899Z"
    },
    "papermill": {
     "duration": 0.23462,
     "end_time": "2021-10-29T17:38:01.485745",
     "exception": false,
     "start_time": "2021-10-29T17:38:01.251125",
     "status": "completed"
    },
    "tags": []
   },
   "outputs": [],
   "source": [
    "#Checking if na values exist in 'total_bedrooms' columns\n",
    "df_housing.filter(col('total_bedrooms').isNull()).show()"
   ]
  },
  {
   "cell_type": "code",
   "execution_count": null,
   "id": "171e9bff",
   "metadata": {
    "execution": {
     "iopub.execute_input": "2021-10-29T17:38:01.874858Z",
     "iopub.status.busy": "2021-10-29T17:38:01.874189Z",
     "iopub.status.idle": "2021-10-29T17:38:04.586041Z",
     "shell.execute_reply": "2021-10-29T17:38:04.586562Z",
     "shell.execute_reply.started": "2021-10-29T16:33:09.281903Z"
    },
    "papermill": {
     "duration": 2.88668,
     "end_time": "2021-10-29T17:38:04.586746",
     "exception": false,
     "start_time": "2021-10-29T17:38:01.700066",
     "status": "completed"
    },
    "tags": []
   },
   "outputs": [],
   "source": [
    "from pyspark.ml.stat import Correlation\n",
    "from pyspark.ml.feature import VectorAssembler\n",
    "\n",
    "# convert to vector column first\n",
    "assembler = VectorAssembler(inputCols=df_housing.columns, outputCol=\"features\")\n",
    "df_vector = assembler.transform(df_housing).select(\"features\")\n",
    "\n",
    "# get correlation matrix\n",
    "matrix = Correlation.corr(df_vector, 'features')\n",
    "corrmatrix = matrix.collect()[0][0].toArray().tolist()\n",
    "\n",
    "#Converst to pandas dataframe\n",
    "df_corr = pd.DataFrame(corrmatrix, columns = df_housing.columns, index = df_housing.columns)\n",
    "\n",
    "#plot correlation matrix by using seaborn\n",
    "sns.heatmap(df_corr)\n"
   ]
  },
  {
   "cell_type": "code",
   "execution_count": null,
   "id": "44e31b1b",
   "metadata": {
    "execution": {
     "iopub.execute_input": "2021-10-29T17:38:04.951153Z",
     "iopub.status.busy": "2021-10-29T17:38:04.950463Z",
     "iopub.status.idle": "2021-10-29T17:38:04.953530Z",
     "shell.execute_reply": "2021-10-29T17:38:04.954021Z",
     "shell.execute_reply.started": "2021-10-29T16:46:57.105783Z"
    },
    "papermill": {
     "duration": 0.184177,
     "end_time": "2021-10-29T17:38:04.954337",
     "exception": false,
     "start_time": "2021-10-29T17:38:04.770160",
     "status": "completed"
    },
    "tags": []
   },
   "outputs": [],
   "source": [
    "df_housing.columns"
   ]
  },
  {
   "cell_type": "markdown",
   "id": "b05b2478",
   "metadata": {
    "papermill": {
     "duration": 0.174279,
     "end_time": "2021-10-29T17:38:05.301810",
     "exception": false,
     "start_time": "2021-10-29T17:38:05.127531",
     "status": "completed"
    },
    "tags": []
   },
   "source": [
    "**Linear regression to predict prices**"
   ]
  },
  {
   "cell_type": "code",
   "execution_count": null,
   "id": "e21a590b",
   "metadata": {
    "execution": {
     "iopub.execute_input": "2021-10-29T17:38:05.658597Z",
     "iopub.status.busy": "2021-10-29T17:38:05.657691Z",
     "iopub.status.idle": "2021-10-29T17:38:05.792063Z",
     "shell.execute_reply": "2021-10-29T17:38:05.791004Z",
     "shell.execute_reply.started": "2021-10-29T17:29:10.461232Z"
    },
    "papermill": {
     "duration": 0.319388,
     "end_time": "2021-10-29T17:38:05.792292",
     "exception": false,
     "start_time": "2021-10-29T17:38:05.472904",
     "status": "completed"
    },
    "tags": []
   },
   "outputs": [],
   "source": [
    "#Drop non-correlated columns\n",
    "df_model = df_housing.select(['housing_median_age','total_rooms', 'median_income','price'])\n",
    "df_model.show(3)"
   ]
  },
  {
   "cell_type": "code",
   "execution_count": null,
   "id": "b596550a",
   "metadata": {
    "execution": {
     "iopub.execute_input": "2021-10-29T17:38:06.282487Z",
     "iopub.status.busy": "2021-10-29T17:38:06.281799Z",
     "iopub.status.idle": "2021-10-29T17:38:07.308157Z",
     "shell.execute_reply": "2021-10-29T17:38:07.308747Z",
     "shell.execute_reply.started": "2021-10-29T17:06:29.925314Z"
    },
    "papermill": {
     "duration": 1.222526,
     "end_time": "2021-10-29T17:38:07.308938",
     "exception": false,
     "start_time": "2021-10-29T17:38:06.086412",
     "status": "completed"
    },
    "tags": []
   },
   "outputs": [],
   "source": [
    "#Checking normal distribution of selected fetures\n",
    "#housing_median_age\n",
    "\n",
    "sns.distplot(df_housing.select('housing_median_age').toPandas(), color=\"skyblue\")\n",
    "df_housing.select(F.skewness('housing_median_age'), F.kurtosis('housing_median_age')).show()\n",
    "\n",
    "#the housing_median_age is normally distributed"
   ]
  },
  {
   "cell_type": "code",
   "execution_count": null,
   "id": "62a6063e",
   "metadata": {
    "execution": {
     "iopub.execute_input": "2021-10-29T17:38:07.657635Z",
     "iopub.status.busy": "2021-10-29T17:38:07.656900Z",
     "iopub.status.idle": "2021-10-29T17:38:08.777784Z",
     "shell.execute_reply": "2021-10-29T17:38:08.777184Z",
     "shell.execute_reply.started": "2021-10-29T17:07:20.703763Z"
    },
    "papermill": {
     "duration": 1.296203,
     "end_time": "2021-10-29T17:38:08.777946",
     "exception": false,
     "start_time": "2021-10-29T17:38:07.481743",
     "status": "completed"
    },
    "tags": []
   },
   "outputs": [],
   "source": [
    "#Checking normal distribution of selected fetures\n",
    "#total_rooms\n",
    "\n",
    "sns.distplot(df_housing.select('total_rooms').toPandas(), color=\"skyblue\")\n",
    "df_housing.select(F.skewness('total_rooms'), F.kurtosis('total_rooms')).show()\n",
    "\n",
    "#the total_rooms is not normally distributed"
   ]
  },
  {
   "cell_type": "code",
   "execution_count": null,
   "id": "eee43e16",
   "metadata": {
    "execution": {
     "iopub.execute_input": "2021-10-29T17:38:09.133770Z",
     "iopub.status.busy": "2021-10-29T17:38:09.133156Z",
     "iopub.status.idle": "2021-10-29T17:38:10.220407Z",
     "shell.execute_reply": "2021-10-29T17:38:10.219797Z",
     "shell.execute_reply.started": "2021-10-29T17:29:15.696610Z"
    },
    "papermill": {
     "duration": 1.264617,
     "end_time": "2021-10-29T17:38:10.220562",
     "exception": false,
     "start_time": "2021-10-29T17:38:08.955945",
     "status": "completed"
    },
    "tags": []
   },
   "outputs": [],
   "source": [
    "#Using lograthimic scale to normalize the data\n",
    "\n",
    "df_model = df_model.withColumn(\"total_rooms_log\", F.log10(col(\"total_rooms\")))\n",
    "\n",
    "sns.distplot(df_model.select('total_rooms_log').toPandas(), color=\"skyblue\")\n",
    "df_model.select(F.skewness('total_rooms_log'), F.kurtosis('total_rooms_log')).show()\n",
    "\n",
    "#The distribution is now lograthmic distributed"
   ]
  },
  {
   "cell_type": "code",
   "execution_count": null,
   "id": "4deb3e68",
   "metadata": {
    "execution": {
     "iopub.execute_input": "2021-10-29T17:38:10.626358Z",
     "iopub.status.busy": "2021-10-29T17:38:10.625685Z",
     "iopub.status.idle": "2021-10-29T17:38:11.578779Z",
     "shell.execute_reply": "2021-10-29T17:38:11.578218Z",
     "shell.execute_reply.started": "2021-10-29T17:25:37.564148Z"
    },
    "papermill": {
     "duration": 1.156251,
     "end_time": "2021-10-29T17:38:11.578952",
     "exception": false,
     "start_time": "2021-10-29T17:38:10.422701",
     "status": "completed"
    },
    "tags": []
   },
   "outputs": [],
   "source": [
    "#Checking normal distribution of selected fetures\n",
    "#median_income\n",
    "\n",
    "sns.distplot(df_housing.select('median_income').toPandas(), color=\"skyblue\")\n",
    "df_housing.select(F.skewness('median_income'), F.kurtosis('median_income')).show()\n",
    "\n",
    "#the median_income is normally distributed"
   ]
  },
  {
   "cell_type": "code",
   "execution_count": null,
   "id": "2b88796f",
   "metadata": {
    "papermill": {
     "duration": 0.174609,
     "end_time": "2021-10-29T17:38:11.932522",
     "exception": false,
     "start_time": "2021-10-29T17:38:11.757913",
     "status": "completed"
    },
    "tags": []
   },
   "outputs": [],
   "source": []
  },
  {
   "cell_type": "code",
   "execution_count": null,
   "id": "208ae289",
   "metadata": {
    "execution": {
     "iopub.execute_input": "2021-10-29T17:38:12.295936Z",
     "iopub.status.busy": "2021-10-29T17:38:12.295216Z",
     "iopub.status.idle": "2021-10-29T17:38:12.491594Z",
     "shell.execute_reply": "2021-10-29T17:38:12.492707Z",
     "shell.execute_reply.started": "2021-10-29T17:27:20.485049Z"
    },
    "papermill": {
     "duration": 0.382893,
     "end_time": "2021-10-29T17:38:12.493056",
     "exception": false,
     "start_time": "2021-10-29T17:38:12.110163",
     "status": "completed"
    },
    "tags": []
   },
   "outputs": [],
   "source": [
    "#Assembling features\n",
    "feature_assembly = VectorAssembler(inputCols = ['housing_median_age','total_rooms_log', 'median_income'], outputCol = 'features')\n",
    "output = feature_assembly.transform(df_model)\n",
    "output.show(3)"
   ]
  },
  {
   "cell_type": "code",
   "execution_count": null,
   "id": "77ccced9",
   "metadata": {
    "execution": {
     "iopub.execute_input": "2021-10-29T17:38:12.880626Z",
     "iopub.status.busy": "2021-10-29T17:38:12.879961Z",
     "iopub.status.idle": "2021-10-29T17:38:13.649648Z",
     "shell.execute_reply": "2021-10-29T17:38:13.648993Z",
     "shell.execute_reply.started": "2021-10-29T17:34:31.600496Z"
    },
    "papermill": {
     "duration": 0.958073,
     "end_time": "2021-10-29T17:38:13.649849",
     "exception": false,
     "start_time": "2021-10-29T17:38:12.691776",
     "status": "completed"
    },
    "tags": []
   },
   "outputs": [],
   "source": [
    "#Normalizing the features\n",
    "from pyspark.ml.feature import StandardScaler\n",
    "\n",
    "scaler = StandardScaler(inputCol=\"features\", outputCol=\"scaledFeatures\",\n",
    "                        withStd=True, withMean=False)\n",
    "\n",
    "# Compute summary statistics by fitting the StandardScaler\n",
    "scalerModel = scaler.fit(output)\n",
    "\n",
    "# Normalize each feature to have unit standard deviation.\n",
    "scaledOutput = scalerModel.transform(output)\n",
    "scaledOutput.show(3)"
   ]
  },
  {
   "cell_type": "code",
   "execution_count": null,
   "id": "76539842",
   "metadata": {
    "execution": {
     "iopub.execute_input": "2021-10-29T17:38:14.038367Z",
     "iopub.status.busy": "2021-10-29T17:38:14.037144Z",
     "iopub.status.idle": "2021-10-29T17:38:14.165679Z",
     "shell.execute_reply": "2021-10-29T17:38:14.164873Z",
     "shell.execute_reply.started": "2021-10-29T17:34:54.144599Z"
    },
    "papermill": {
     "duration": 0.319729,
     "end_time": "2021-10-29T17:38:14.165917",
     "exception": false,
     "start_time": "2021-10-29T17:38:13.846188",
     "status": "completed"
    },
    "tags": []
   },
   "outputs": [],
   "source": [
    "#Selecting input and output column from output\n",
    "df_model_final = scaledOutput.select(['price', 'scaledFeatures'])\n",
    "df_model_final.show(3)"
   ]
  },
  {
   "cell_type": "code",
   "execution_count": null,
   "id": "2f456b3e",
   "metadata": {
    "execution": {
     "iopub.execute_input": "2021-10-29T17:38:14.551348Z",
     "iopub.status.busy": "2021-10-29T17:38:14.550203Z",
     "iopub.status.idle": "2021-10-29T17:38:16.301108Z",
     "shell.execute_reply": "2021-10-29T17:38:16.302079Z",
     "shell.execute_reply.started": "2021-10-29T17:35:24.437345Z"
    },
    "papermill": {
     "duration": 1.935924,
     "end_time": "2021-10-29T17:38:16.302336",
     "exception": false,
     "start_time": "2021-10-29T17:38:14.366412",
     "status": "completed"
    },
    "tags": []
   },
   "outputs": [],
   "source": [
    "from pyspark.ml.regression import LinearRegression \n",
    "\n",
    "#test train split\n",
    "df_train, df_test = df_model_final.randomSplit([0.75, 0.25])\n",
    "regressor = LinearRegression(featuresCol = 'scaledFeatures', labelCol = 'price')\n",
    "regressor = regressor.fit(df_train)"
   ]
  },
  {
   "cell_type": "code",
   "execution_count": null,
   "id": "b54c0c25",
   "metadata": {
    "execution": {
     "iopub.execute_input": "2021-10-29T17:38:16.803236Z",
     "iopub.status.busy": "2021-10-29T17:38:16.801498Z",
     "iopub.status.idle": "2021-10-29T17:38:17.135173Z",
     "shell.execute_reply": "2021-10-29T17:38:17.134358Z",
     "shell.execute_reply.started": "2021-10-29T17:35:27.260157Z"
    },
    "papermill": {
     "duration": 0.524015,
     "end_time": "2021-10-29T17:38:17.135383",
     "exception": false,
     "start_time": "2021-10-29T17:38:16.611368",
     "status": "completed"
    },
    "tags": []
   },
   "outputs": [],
   "source": [
    "#MSE for the train data\n",
    "\n",
    "pred_results = regressor.evaluate(df_train)\n",
    "print(\"The MSE for the model is: %2f\"% pred_results.meanAbsoluteError)\n",
    "print(\"The r2 for the model is: %2f\"% pred_results.r2)"
   ]
  },
  {
   "cell_type": "code",
   "execution_count": null,
   "id": "feb17c14",
   "metadata": {
    "execution": {
     "iopub.execute_input": "2021-10-29T17:38:17.688424Z",
     "iopub.status.busy": "2021-10-29T17:38:17.687356Z",
     "iopub.status.idle": "2021-10-29T17:38:18.062083Z",
     "shell.execute_reply": "2021-10-29T17:38:18.061368Z",
     "shell.execute_reply.started": "2021-10-29T17:35:40.813498Z"
    },
    "papermill": {
     "duration": 0.619646,
     "end_time": "2021-10-29T17:38:18.062290",
     "exception": false,
     "start_time": "2021-10-29T17:38:17.442644",
     "status": "completed"
    },
    "tags": []
   },
   "outputs": [],
   "source": [
    "#Checking train performance\n",
    "pred_results = regressor.evaluate(df_test)\n",
    "print(\"The MSE for the model is: %2f\"% pred_results.meanAbsoluteError)\n",
    "print(\"The r2 for the model is: %2f\"% pred_results.r2)"
   ]
  }
 ],
 "metadata": {
  "kernelspec": {
   "display_name": "Python 3 (ipykernel)",
   "language": "python",
   "name": "python3"
  },
  "language_info": {
   "codemirror_mode": {
    "name": "ipython",
    "version": 3
   },
   "file_extension": ".py",
   "mimetype": "text/x-python",
   "name": "python",
   "nbconvert_exporter": "python",
   "pygments_lexer": "ipython3",
   "version": "3.10.4"
  },
  "papermill": {
   "default_parameters": {},
   "duration": 123.295907,
   "end_time": "2021-10-29T17:38:19.279150",
   "environment_variables": {},
   "exception": null,
   "input_path": "__notebook__.ipynb",
   "output_path": "__notebook__.ipynb",
   "parameters": {},
   "start_time": "2021-10-29T17:36:15.983243",
   "version": "2.3.3"
  }
 },
 "nbformat": 4,
 "nbformat_minor": 5
}
